{
 "cells": [
  {
   "cell_type": "markdown",
   "metadata": {},
   "source": [
    " ## Writing workflow\n",
    " The library accepts any 2d or 3d numpy arrays: (z,y,x) axis order as `stack`, or (y,x) as `plane`. \n",
    " The input array is converted to `uint16` automatically.\n",
    " \n",
    " 1. A writer object is created: it opens a new h5 file and requires info about setups and saving options: \n",
    " number of setup attributes (e.g. channels, angles), compression, subsampling. \n",
    " 2. Numpy stacks (3d arrays) can be appended to the h5 file \n",
    " as views by `BdvWriter.append_view(stack, ...)`. \n",
    " Stacks can be normal (whole stack appended at once), or virtual, appended plane by plane.\n",
    " The time point `time` and attributes such as `channel`, `angle` etc must be specified \n",
    " for each view.\n",
    " \n",
    " 3. An XML file with all meta information is created in the end by `BdvWriter.write_xml_file(ntimes, ...)`.\n",
    " The total number of time points `ntimes` must be specified at this step \n",
    " (it may be unknown in the beginning of acquisition).\n",
    "  \n",
    " 4. Writing is finalized by calling `BdvWriter.close()`.\n",
    " \n",
    "**Todo:** \n",
    "- examples of reading and cropping views in existing file using `npy2bdv.BdvEditor()` class.\n",
    "- examples of appending and reading transforms to/from XML file. "
   ]
  },
  {
   "cell_type": "code",
   "execution_count": 1,
   "metadata": {},
   "outputs": [
    {
     "name": "stderr",
     "output_type": "stream",
     "text": [
      "C:\\Users\\nvladim\\AppData\\Local\\Continuum\\Anaconda2\\envs\\py36\\lib\\site-packages\\h5py\\__init__.py:36: FutureWarning: Conversion of the second argument of issubdtype from `float` to `np.floating` is deprecated. In future, it will be treated as `np.float64 == np.dtype(float).type`.\n",
      "  from ._conv import register_converters as _register_converters\n"
     ]
    },
    {
     "name": "stdout",
     "output_type": "stream",
     "text": [
      "2021.01\n"
     ]
    }
   ],
   "source": [
    "import time\n",
    "import sys\n",
    "import os\n",
    "import numpy as np\n",
    "import npy2bdv\n",
    "\n",
    "print(npy2bdv.BdvWriter.__version__)"
   ]
  },
  {
   "cell_type": "code",
   "execution_count": 2,
   "metadata": {},
   "outputs": [],
   "source": [
    "def generate_test_image(dim_yx, iz, nz):\n",
    "    \"\"\"Gaussian blob spanning the whole range of uint16 type\"\"\"\n",
    "    x = np.linspace(-3, 3, dim_yx[1])\n",
    "    y = np.linspace(-3, 3, dim_yx[0])\n",
    "    sigma = 1.0 - abs(iz - nz/2) / nz\n",
    "    x, y = np.meshgrid(x, y)\n",
    "    return 65535 * np.exp(- ((x ** 2) + (y ** 2)) / (2 * sigma**2) )\n",
    "\n",
    "examples_dir = \"./example_files/\"\n",
    "if not os.path.exists(examples_dir):\n",
    "    os.mkdir(examples_dir)\n",
    "\n",
    "nz, ny, nx = 50, 1024, 2048\n",
    "stack = np.empty((nz, ny, nx))\n",
    "for z in range(nz):\n",
    "    stack[z, :, :] = generate_test_image((ny, nx), z, nz)"
   ]
  },
  {
   "cell_type": "markdown",
   "metadata": {},
   "source": [
    "## 1. Basic stack writing"
   ]
  },
  {
   "cell_type": "code",
   "execution_count": 3,
   "metadata": {},
   "outputs": [
    {
     "name": "stdout",
     "output_type": "stream",
     "text": [
      "dataset in ./example_files/ex1_t2_ch2_illum2_angle2.h5\n"
     ]
    }
   ],
   "source": [
    "fname = examples_dir + \"ex1_t2_ch2_illum2_angle2.h5\"\n",
    "bdv_writer = npy2bdv.BdvWriter(fname, nchannels=2, nilluminations=2, nangles=2, subsamp=((1, 1, 1),))\n",
    "for t in range(2):\n",
    "    for i_ch in range(2):\n",
    "        for i_illum in range(2):\n",
    "            for i_angle in range(2):\n",
    "                bdv_writer.append_view(stack, time=t, channel=i_ch, illumination=i_illum, angle=i_angle)\n",
    "\n",
    "bdv_writer.write_xml_file(ntimes=2)\n",
    "bdv_writer.close()\n",
    "print(f\"dataset in {fname}\")"
   ]
  },
  {
   "cell_type": "markdown",
   "metadata": {},
   "source": [
    "## 2. Writing speed test\n",
    "\n",
    "Speed test for 20 time points and 2 channels. File size is 8 GB.\n",
    "\n",
    "For some reason, stacks created in `float64` format are written **5x faster** than stacks in `uint16`. Storage in H5 is `uint16` in both cases, this is unexpected speed difference. Todo: look into h5py for details."
   ]
  },
  {
   "cell_type": "code",
   "execution_count": 4,
   "metadata": {},
   "outputs": [
    {
     "name": "stdout",
     "output_type": "stream",
     "text": [
      "H5 mean writing time per stack: 0.437 sec.\n",
      "H5 mean writing speed: 1921 MB/s\n",
      "dataset in ./example_files/ex2_t20_chan2.h5\n"
     ]
    }
   ],
   "source": [
    "ntimes = 20\n",
    "nchannels = 2\n",
    "start_time_total = time.time()\n",
    "i_stacks = 0\n",
    "time_list = []\n",
    "fname = examples_dir + \"ex2_t20_chan2.h5\"\n",
    "bdv_writer = npy2bdv.BdvWriter(fname, nchannels=2, subsamp=((1, 1, 1),))\n",
    "for ichannel in range(nchannels):\n",
    "    for itime in range(ntimes):\n",
    "        start_time = time.time()\n",
    "        bdv_writer.append_view(stack, time=itime, channel=ichannel)\n",
    "        time_interval = time.time() - start_time\n",
    "        time_list.append(time_interval)\n",
    "        i_stacks += 1.0\n",
    "\n",
    "bdv_writer.write_xml_file(ntimes=ntimes)\n",
    "bdv_writer.close()\n",
    "time_per_stack = (time.time() - start_time_total) / i_stacks\n",
    "print(f\"H5 mean writing time per stack: {time_per_stack:1.3f} sec.\")\n",
    "print(f\"H5 mean writing speed: {int(sys.getsizeof(stack) / time_per_stack / 1e6)} MB/s\")\n",
    "print(f\"dataset in {fname}\")"
   ]
  },
  {
   "cell_type": "markdown",
   "metadata": {},
   "source": [
    "## 3. Writing with affine transformations defined in XML file\n",
    "\n",
    "Affine transformations define translation, rotation, scaling, and shear.\n",
    "\n",
    "In this example we write 1 time point and 1 channel with 10-px shear transformation along X axis. With non-isotropic voxel size calibration.\n",
    "      \n",
    "The affine transformation defined in XML file is automatically applied every time you open the dataset in BigDataViewer/BigStitcher."
   ]
  },
  {
   "cell_type": "code",
   "execution_count": 5,
   "metadata": {},
   "outputs": [
    {
     "name": "stdout",
     "output_type": "stream",
     "text": [
      "sheared dataset in ./example_files/ex3_t1_ch1_shear.h5\n"
     ]
    }
   ],
   "source": [
    "shear_x_px = 10\n",
    "affine_matrix = np.array(((1.0, 0.0, -shear_x_px, 0.0),\n",
    "                          (0.0, 1.0, 0.0, 0.0),\n",
    "                          (0.0, 0.0, 1.0, 0.0)))\n",
    "\n",
    "fname = examples_dir + \"ex3_t1_ch1_shear.h5\"\n",
    "bdv_writer = npy2bdv.BdvWriter(fname, nchannels=1, subsamp=((1, 1, 1),))\n",
    "bdv_writer.append_view(stack, time=0, channel=0,\n",
    "                       m_affine=affine_matrix,\n",
    "                       name_affine=\"shearing transformation\",\n",
    "                       calibration=(1, 1, 1))\n",
    "bdv_writer.write_xml_file(ntimes=1)\n",
    "bdv_writer.close()\n",
    "print(f\"sheared dataset in {fname}\")"
   ]
  },
  {
   "cell_type": "markdown",
   "metadata": {},
   "source": [
    "## 3.1 Writing multiple tiles on a grid\n",
    "\n",
    "Here, affine transformation matrix defines translation of individual tiles in the global coordinate system.\n",
    "Tile position is the position of its lower left corner. The last (4-th) column of the affine matrix defines the translation terms (x,y,z).\n",
    "\n",
    "Optionally, make some tiles missing."
   ]
  },
  {
   "cell_type": "code",
   "execution_count": 6,
   "metadata": {},
   "outputs": [
    {
     "name": "stdout",
     "output_type": "stream",
     "text": [
      "\n",
      " File with multiple tiles: ./example_files/ex3p1_tiles.h5\n"
     ]
    }
   ],
   "source": [
    "DEBUG_MODE = False\n",
    "MISSING_TILES = False\n",
    "\n",
    "n_tiles_x = 4\n",
    "n_tiles_y = 2\n",
    "\n",
    "tile_w, tile_h = stack.shape[2] // n_tiles_x, stack.shape[1] // n_tiles_y\n",
    "\n",
    "tile_position_yx = ((0,0), (0, tile_w), (tile_h, 0), (tile_h, tile_w))\n",
    "\n",
    "unit_matrix = np.array(((1.0, 0.0, 0.0, 0.0), # change the 4. value for x_translation (px)\n",
    "                        (0.0, 1.0, 0.0, 0.0), # change the 4. value for y_translation (px)\n",
    "                        (0.0, 0.0, 1.0, 0.0)))# change the 4. value for z_translation (px)\n",
    "\n",
    "fname = examples_dir + \"ex3p1_tiles.h5\"\n",
    "bdv_writer = npy2bdv.BdvWriter(fname, ntiles=n_tiles_x*n_tiles_y)\n",
    "for j in range(n_tiles_y):\n",
    "    for i in range(n_tiles_x):\n",
    "        tile_stack = stack[:, j*tile_h:(j+1)*tile_h, i*tile_w:(i+1)*tile_w]\n",
    "        tile_index = i + j*n_tiles_x\n",
    "        affine_matrix = unit_matrix\n",
    "        affine_matrix[0,3] = i * tile_w # x-translation\n",
    "        affine_matrix[1,3] = j * tile_h # y-translation\n",
    "        if DEBUG_MODE:\n",
    "            print(f\"Tile index: {tile_index}\")\n",
    "            print(f\"Transform matrix: \\n {affine_matrix}\")\n",
    "        if MISSING_TILES and tile_index in (1,2): # make two tiles missing \n",
    "            pass\n",
    "        else:\n",
    "            bdv_writer.append_view(tile_stack, time=0, \n",
    "                                   tile=tile_index, \n",
    "                                   m_affine=affine_matrix, \n",
    "                                   name_affine=f\"tile {tile_index} translation\")\n",
    "bdv_writer.write_xml_file(ntimes=1)\n",
    "bdv_writer.close()\n",
    "print(f\"\\n File with multiple tiles: {fname}\")"
   ]
  },
  {
   "cell_type": "markdown",
   "metadata": {},
   "source": [
    "## 4. Writing with experiment metadata\n",
    "Dataset with 1 time point and 1 channel with voxel size, exposure, camera and microscope properties stored in XML."
   ]
  },
  {
   "cell_type": "code",
   "execution_count": 7,
   "metadata": {},
   "outputs": [
    {
     "name": "stdout",
     "output_type": "stream",
     "text": [
      "dataset is in ./example_files/ex4_t1_ch1_cam_props.h5\n"
     ]
    }
   ],
   "source": [
    "fname = examples_dir + \"ex4_t1_ch1_cam_props.h5\"\n",
    "bdv_writer = npy2bdv.BdvWriter(fname, nchannels=1, subsamp=((1, 1, 1),))\n",
    "bdv_writer.append_view(stack, time=0, channel=0,\n",
    "                       voxel_size_xyz=(1, 1, 5), voxel_units='um',\n",
    "                       exposure_time=10, exposure_units='ms')\n",
    "bdv_writer.write_xml_file(ntimes=1, camera_name=\"Hamamatsu OrcaFlash100\",\n",
    "                          microscope_name='Superscope',\n",
    "                          user_name='nvladimus')\n",
    "bdv_writer.close()\n",
    "print(f\"dataset is in {fname}\")"
   ]
  },
  {
   "cell_type": "markdown",
   "metadata": {},
   "source": [
    "## 5. Subsampling and compression\n",
    "Dataset contains 1 time point and 1 channel with 3-level subsampling and compression."
   ]
  },
  {
   "cell_type": "code",
   "execution_count": 8,
   "metadata": {},
   "outputs": [
    {
     "name": "stdout",
     "output_type": "stream",
     "text": [
      "INFO: blockdim levels (1) < subsamp levels (3): First-level block size (64, 64, 64) will be used for all levels\n",
      "dataset is in ./example_files/ex5_t1_ch1_level3_gzip.h5\n",
      "Wall time: 10.6 s\n"
     ]
    }
   ],
   "source": [
    "%%time\n",
    "fname = examples_dir + \"ex5_t1_ch1_level3_gzip.h5\"\n",
    "bdv_writer = npy2bdv.BdvWriter(fname, nchannels=1,\n",
    "                               subsamp=((1, 1, 1), (2, 4, 4), (4, 16, 16)),\n",
    "                               blockdim=((64, 64, 64),),\n",
    "                               compression='gzip')\n",
    "bdv_writer.append_view(stack, time=0, channel=0)\n",
    "bdv_writer.write_xml_file(ntimes=1)\n",
    "bdv_writer.close()\n",
    "print(f\"dataset is in {fname}\")"
   ]
  },
  {
   "cell_type": "markdown",
   "metadata": {},
   "source": [
    "## 6. Virtual stacks that are too big to fit RAM\n",
    "Dataset has 1 time point, 2 channels, and large virtual stack, 21 GB, written plane by plane.\n",
    "\n",
    "No subsampling or compression here (see next example for these options)"
   ]
  },
  {
   "cell_type": "code",
   "execution_count": 9,
   "metadata": {},
   "outputs": [
    {
     "name": "stdout",
     "output_type": "stream",
     "text": [
      "virtual stack in ./example_files/ex6_t1_ch1_huge_virtual.h5\n",
      "Wall time: 47.6 s\n"
     ]
    }
   ],
   "source": [
    "%%time\n",
    "nz, ny, nx = 250, 3648, 5472\n",
    "test_image = generate_test_image((ny, nx), nz/2, nz)\n",
    "fname = examples_dir + \"ex6_t1_ch1_huge_virtual.h5\"\n",
    "bdv_writer = npy2bdv.BdvWriter(fname, nchannels=2, blockdim=((1, 256, 256),))\n",
    "\n",
    "for i_ch in range(2):\n",
    "    bdv_writer.append_view(stack=None, virtual_stack_dim=(nz,ny,nx), time=0, channel=i_ch)\n",
    "    for z in range(nz):\n",
    "        bdv_writer.append_plane(plane=test_image, z=z, time=0, channel=i_ch)\n",
    "\n",
    "bdv_writer.write_xml_file(ntimes=1)\n",
    "bdv_writer.close()\n",
    "print(f\"virtual stack in {fname}\")"
   ]
  },
  {
   "cell_type": "markdown",
   "metadata": {},
   "source": [
    "### 6.a Virtual stacks with subsampling\n",
    "\n",
    "Subsampling allows faster viewing in BDV, because only the necessary level of details is loaded into RAM, instead of full resolution image.\n",
    "\n",
    "IN virtual stack writing, the subsampling level Z must be 1, because the data is written plane by plane, so there is no way to subsample in Z on the fly. For example, `subsamp=((1, 1, 1), (1, 4, 4), (1, 8, 8))`.\n",
    "\n",
    "The newly generated file is slightly bigger (by ca. 8%), but the processing time increases 5x.\n",
    "\n",
    "Compression is supported in the same way as for normal stacks, see Example 5."
   ]
  },
  {
   "cell_type": "code",
   "execution_count": 10,
   "metadata": {},
   "outputs": [
    {
     "name": "stdout",
     "output_type": "stream",
     "text": [
      "INFO: blockdim levels (1) < subsamp levels (3): First-level block size (1, 128, 128) will be used for all levels\n",
      "virtual stack with subsampling is in ./example_files/ex6a_t1_ch1_huge_virtual_subsamp.h5\n",
      "Wall time: 4min 53s\n"
     ]
    }
   ],
   "source": [
    "%%time\n",
    "fname = examples_dir + \"ex6a_t1_ch1_huge_virtual_subsamp.h5\"\n",
    "bdv_writer = npy2bdv.BdvWriter(fname, nchannels=2,\n",
    "                               blockdim=((1, 128, 128),),\n",
    "                               subsamp=((1, 1, 1), (1, 4, 4), (1, 8, 8)))\n",
    "\n",
    "for i_ch in range(2):\n",
    "    bdv_writer.append_view(stack=None, virtual_stack_dim=(nz,ny,nx), time=0, channel=i_ch)\n",
    "    for z in range(nz):\n",
    "        bdv_writer.append_plane(plane=test_image, z=z, time=0, channel=i_ch)\n",
    "\n",
    "bdv_writer.write_xml_file(ntimes=1)\n",
    "bdv_writer.close()\n",
    "print(f\"virtual stack with subsampling is in {fname}\")"
   ]
  },
  {
   "cell_type": "markdown",
   "metadata": {},
   "source": [
    "## 7. Missing views, normal stack\n",
    "Missing views are detected automatically and marked as such in XML file."
   ]
  },
  {
   "cell_type": "code",
   "execution_count": 11,
   "metadata": {},
   "outputs": [
    {
     "name": "stdout",
     "output_type": "stream",
     "text": [
      "dataset with missing views in ./example_files/ex7_missing_views.h5\n"
     ]
    }
   ],
   "source": [
    "fname = examples_dir + \"ex7_missing_views.h5\"\n",
    "bdv_writer = npy2bdv.BdvWriter(fname, nchannels=2, subsamp=((1, 1, 1),))\n",
    "bdv_writer.append_view(stack, time=0, channel=0)\n",
    "bdv_writer.append_view(stack, time=1, channel=1)\n",
    "bdv_writer.write_xml_file(ntimes=2)\n",
    "bdv_writer.close()\n",
    "print(f\"dataset with missing views in {fname}\")"
   ]
  },
  {
   "cell_type": "markdown",
   "metadata": {},
   "source": [
    "## 8. Missing views, virtual stack"
   ]
  },
  {
   "cell_type": "code",
   "execution_count": 12,
   "metadata": {},
   "outputs": [
    {
     "name": "stdout",
     "output_type": "stream",
     "text": [
      "dataset with missing views in ./example_files/ex8_virtual_stack_missing_views.h5\n"
     ]
    }
   ],
   "source": [
    "fname = examples_dir + \"ex8_virtual_stack_missing_views.h5\"\n",
    "bdv_writer = npy2bdv.BdvWriter(fname, nchannels=2, subsamp=((1, 1, 1),))\n",
    "bdv_writer.append_view(stack=None, virtual_stack_dim=(nz, ny, nx), time=0, channel=0)\n",
    "bdv_writer.append_view(stack=None, virtual_stack_dim=(nz, ny, nx), time=1, channel=1)\n",
    "\n",
    "for z in range(nz):\n",
    "    bdv_writer.append_plane(plane=test_image, z=z, time=0, channel=0)\n",
    "    bdv_writer.append_plane(plane=test_image, z=z, time=1, channel=1)\n",
    "\n",
    "bdv_writer.write_xml_file(ntimes=2)\n",
    "bdv_writer.close()\n",
    "print(f\"dataset with missing views in {fname}\")"
   ]
  },
  {
   "cell_type": "markdown",
   "metadata": {},
   "source": [
    "## Clean up the data files generated"
   ]
  },
  {
   "cell_type": "code",
   "execution_count": 13,
   "metadata": {},
   "outputs": [],
   "source": [
    "import shutil\n",
    "if os.path.exists(examples_dir):\n",
    "    shutil.rmtree(examples_dir)"
   ]
  },
  {
   "cell_type": "code",
   "execution_count": null,
   "metadata": {},
   "outputs": [],
   "source": []
  }
 ],
 "metadata": {
  "kernelspec": {
   "display_name": "venv",
   "language": "python",
   "name": "venv"
  },
  "language_info": {
   "codemirror_mode": {
    "name": "ipython",
    "version": 3
   },
   "file_extension": ".py",
   "mimetype": "text/x-python",
   "name": "python",
   "nbconvert_exporter": "python",
   "pygments_lexer": "ipython3",
   "version": "3.6.5"
  }
 },
 "nbformat": 4,
 "nbformat_minor": 2
}
